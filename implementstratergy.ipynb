{
 "cells": [
  {
   "cell_type": "code",
   "execution_count": 4,
   "id": "308bf641-b2be-460e-9181-519f1fcaca91",
   "metadata": {},
   "outputs": [
    {
     "name": "stderr",
     "output_type": "stream",
     "text": [
      "/var/folders/gn/yy_br7zx0mzbg86m2vwjm9rc0000gn/T/ipykernel_66095/3707973416.py:6: UserWarning: Could not infer format, so each element will be parsed individually, falling back to `dateutil`. To ensure parsing is consistent and as-expected, please specify a format.\n",
      "  df = pd.read_csv(\"reliance.csv\", skiprows=[1], index_col=0, parse_dates=True)\n"
     ]
    }
   ],
   "source": [
    "import numpy as np\n",
    "import matplotlib.pyplot as plt\n",
    "import pandas as pd\n",
    "\n",
    "# Load and clean data\n",
    "df = pd.read_csv(\"reliance.csv\", skiprows=[1], index_col=0, parse_dates=True)\n",
    "df.columns = ['Close', 'High', 'Low', 'Open', 'Volume']\n",
    "\n",
    "# Add 20-day Simple Moving Average\n",
    "df['SMA20'] = df['Close'].rolling(window=20).mean()\n",
    "df.dropna(inplace=True)\n"
   ]
  },
  {
   "cell_type": "code",
   "execution_count": 5,
   "id": "ebc44ad6-9f3b-400a-abbe-c4569bb50240",
   "metadata": {},
   "outputs": [],
   "source": [
    "# Momentum Strategy Signal\n",
    "df['Position_Momentum'] = np.where(df['Close'] > df['SMA20'], 1, 0)\n",
    "\n",
    "# Mean Reversion Signal\n",
    "df['Position_MR'] = np.where(df['Close'] < df['SMA20'], 1, 0)\n",
    "\n",
    "# Daily returns\n",
    "df['Return'] = df['Close'].pct_change()\n",
    "\n",
    "# Strategy Returns\n",
    "df['Strategy_Return_Momentum'] = df['Position_Momentum'].shift(1) * df['Return']\n",
    "df['Strategy_Return_MR'] = df['Position_MR'].shift(1) * df['Return']\n"
   ]
  },
  {
   "cell_type": "code",
   "execution_count": null,
   "id": "2d4878e1-671f-4859-9450-828cd30b4147",
   "metadata": {},
   "outputs": [],
   "source": []
  }
 ],
 "metadata": {
  "kernelspec": {
   "display_name": "Python 3 (ipykernel)",
   "language": "python",
   "name": "python3"
  },
  "language_info": {
   "codemirror_mode": {
    "name": "ipython",
    "version": 3
   },
   "file_extension": ".py",
   "mimetype": "text/x-python",
   "name": "python",
   "nbconvert_exporter": "python",
   "pygments_lexer": "ipython3",
   "version": "3.13.3"
  }
 },
 "nbformat": 4,
 "nbformat_minor": 5
}
